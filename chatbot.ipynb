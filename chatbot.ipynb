{
  "nbformat": 4,
  "nbformat_minor": 0,
  "metadata": {
    "colab": {
      "provenance": [],
      "authorship_tag": "ABX9TyO6437AtX0vMbjn0X+vM/ea",
      "include_colab_link": true
    },
    "kernelspec": {
      "name": "python3",
      "display_name": "Python 3"
    },
    "language_info": {
      "name": "python"
    }
  },
  "cells": [
    {
      "cell_type": "markdown",
      "metadata": {
        "id": "view-in-github",
        "colab_type": "text"
      },
      "source": [
        "<a href=\"https://colab.research.google.com/github/anushkavashishtha2001/codesoft-A.I/blob/main/chatbot.ipynb\" target=\"_parent\"><img src=\"https://colab.research.google.com/assets/colab-badge.svg\" alt=\"Open In Colab\"/></a>"
      ]
    },
    {
      "cell_type": "code",
      "execution_count": null,
      "metadata": {
        "id": "piqkqRyJ0LTT"
      },
      "outputs": [],
      "source": [
        "# Define a dictionary to store the chatbot's responses\n",
        "responses = {\n",
        "    \"hello\": \"Hi! How can I assist you today?\",\n",
        "    \"hi\": \"Hello! What's on your mind?\",\n",
        "    \"how are you\": \"I'm doing great, thanks! How about you?\",\n",
        "    \"what's your name\": \"I'm Chatty, your friendly chatbot!\",\n",
        "    \"goodbye\": \"It was nice chatting with you! Have a great day!\",\n",
        "    \"default\": \"I didn't quite understand that. Can you please rephrase?\"\n",
        "}\n",
        "\n",
        "def chatbot(user_input):\n",
        "    # Convert the user input to lowercase for case-insensitive matching\n",
        "    user_input = user_input.lower()\n",
        "\n",
        "    # Check if the user input matches any of the predefined rules\n",
        "    if user_input in responses:\n",
        "        return responses[user_input]\n",
        "    else:\n",
        "        # If no match is found, return the default response\n",
        "        return responses[\"default\"]\n",
        "\n",
        "# Test the chatbot\n",
        "while True:\n",
        "    user_input = input(\"You: \")\n",
        "    response = chatbot(user_input)\n",
        "    print(\"Chatty:\", response)"
      ]
    }
  ]
}