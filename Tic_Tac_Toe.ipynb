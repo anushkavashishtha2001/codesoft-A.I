{
  "nbformat": 4,
  "nbformat_minor": 0,
  "metadata": {
    "colab": {
      "provenance": [],
      "authorship_tag": "ABX9TyNTQb2PfM8jXfD5hmL7Kqbs",
      "include_colab_link": true
    },
    "kernelspec": {
      "name": "python3",
      "display_name": "Python 3"
    },
    "language_info": {
      "name": "python"
    }
  },
  "cells": [
    {
      "cell_type": "markdown",
      "metadata": {
        "id": "view-in-github",
        "colab_type": "text"
      },
      "source": [
        "<a href=\"https://colab.research.google.com/github/anushkavashishtha2001/codesoft-A.I/blob/main/Tic_Tac_Toe.ipynb\" target=\"_parent\"><img src=\"https://colab.research.google.com/assets/colab-badge.svg\" alt=\"Open In Colab\"/></a>"
      ]
    },
    {
      "cell_type": "code",
      "execution_count": 1,
      "metadata": {
        "colab": {
          "base_uri": "https://localhost:8080/",
          "height": 106
        },
        "id": "9PeQi5OW1gIe",
        "outputId": "8fdc34be-e98c-4ce9-cc90-5b413df092c2"
      },
      "outputs": [
        {
          "output_type": "error",
          "ename": "SyntaxError",
          "evalue": "unterminated string literal (detected at line 12) (<ipython-input-1-eb884a5d7ecf>, line 12)",
          "traceback": [
            "\u001b[0;36m  File \u001b[0;32m\"<ipython-input-1-eb884a5d7ecf>\"\u001b[0;36m, line \u001b[0;32m12\u001b[0m\n\u001b[0;31m    return board[pos] == '\u001b[0m\n\u001b[0m                         ^\u001b[0m\n\u001b[0;31mSyntaxError\u001b[0m\u001b[0;31m:\u001b[0m unterminated string literal (detected at line 12)\n"
          ]
        }
      ],
      "source": [
        "import random\n",
        "\n",
        "# The game board\n",
        "board = [' 'or _ in range(9)]\n",
        "\n",
        "# Function to insert a letter at a given position on the board\n",
        "def insert_letter(letter, pos):\n",
        "    board[pos] = letter\n",
        "\n",
        "# Function to check if the space is free\n",
        "def space_is_free(pos):\n",
        "    return board[pos] == '\n",
        "\n",
        "# Function to print the board\n",
        "def print_board(board):\n",
        "    print(' ' board[0] + ' ' board[1] + ' ' board[2])\n",
        "    print('-----------')\n",
        "    print(' ' board[3] + ' ' board[4] + ' ' board[5])\n",
        "    print('-----------')\n",
        "    print(' ' board[6] + ' ' board[7] + ' ' board[8])\n",
        "\n",
        "# Function to check if the board is full\n",
        "def is_board_full(board):\n",
        "    return board.count(' ') == 0\n",
        "\n",
        "# Function to check for a win\n",
        "def is_winner(bo, le):\n",
        "    return ((bo[0] == le and bo[1] == le and bo[2] == le) or\n",
        "            (bo[3] == le and bo[4] == le and bo[5] == le) or\n",
        "            (bo[6] == le and bo[7] == le and bo[8] == le) or\n",
        "            (bo[0] == le and bo[3] == le and bo[6] == le) or\n",
        "            (bo[1] == le and bo[4] == le and bo[7] == le) or\n",
        "            (bo[2] == le and bo[5] == le and bo[8] == le) or\n",
        "            (bo[0] == le and bo[4] == le and bo[8] == le) or\n",
        "            (bo[2] == le and bo[4] == le and bo[6] == le))\n",
        "\n",
        "# Minimax algorithm with Alpha-Beta Pruning\n",
        "def minimax(board, depth, is_maximizing, alpha, beta):\n",
        "    if is_winner(board, 'X'):\n",
        "        return -10\n",
        "    elif is_winner(board, 'O'):\n",
        "        return 10\n",
        "    elif is_board_full(board):\n",
        "        return 0\n",
        "\n",
        "    if is_maximizing:\n",
        "        best_score = -1000\n",
        "        for i in range(9):\n",
        "            if space_is_free(i):\n",
        "                insert_letter('O', i)\n",
        "                score = minimax(board, depth + 1, False, alpha, beta)\n",
        "                insert_letter(' ', i)\n",
        "                best_score = max(score, best_score)\n",
        "                alpha = max(alpha, best_score)\n",
        "                if beta <= alpha:\n",
        "                    break\n",
        "        return best_score\n",
        "    else:\n",
        "        best_score = 1000\n",
        "        for i in range(9):\n",
        "            if space_is_free(i):\n",
        "                insert_letter('X', i)\n",
        "                score = minimax(board, depth + 1, True, alpha, beta)\n",
        "                insert_letter(' ', i)\n",
        "                best_score = min(score, best_score)\n",
        "                beta = min(beta, best_score)\n",
        "                if beta <= alpha:\n",
        "                    break\n",
        "        return best_score\n",
        "\n",
        "# AI agent's move\n",
        "def ai_move():\n",
        "    best_score = -1000\n",
        "    best_move = 0\n",
        "    for i in range(9):\n",
        "        if space_is_free(i):\n",
        "            insert_letter('O', i)\n",
        "            score = minimax(board, 0, False, -1000, 1000)\n",
        "            insert_letter(' ', i)\n",
        "            if score > best_score:\n",
        "                best_score = score\n",
        "                best_move = i\n",
        "    insert_letter('O', best_move)\n",
        "    return\n",
        "\n",
        "# Human player's move\n",
        "def human_move():\n",
        "    run = True\n",
        "    while run:\n",
        "        move = input('Please select a position to place an \\'X\\' (1-9): ')\n",
        "        try:\n",
        "            move = int(move)\n",
        "            if move > 0 and move < 10:\n",
        "                if space_is_free(move - 1):\n",
        "                    run = False\n",
        "                    insert_letter('X', move - 1)\n",
        "                else:\n",
        "                    print('Sorry, this space is occupied!')\n",
        "            else:\n",
        "                print('Please type a number within the range!')\n",
        "        except:\n",
        "            print('Please type a number!')\n",
        "\n",
        "# Main game loop\n",
        "def play_game():\n",
        "    print_board(board)\n",
        "    while not(is_board_full(board)):\n",
        "        if not(is_winner(board, 'O')):\n",
        "            human_move()\n",
        "            print_board(board)\n",
        "        else:\n",
        "            print('AI wins this time!')\n",
        "            break\n",
        "\n",
        "        if not(is_winner(board, 'X')):\n",
        "            ai_move()\n",
        "            print_board(board)\n",
        "        else:\n",
        "            print('You win!')\n",
        "            break\n",
        "\n",
        "    if is_board_full(board):"
      ]
    },
    {
      "cell_type": "code",
      "source": [],
      "metadata": {
        "id": "f2OKW91l1hB4"
      },
      "execution_count": null,
      "outputs": []
    }
  ]
}