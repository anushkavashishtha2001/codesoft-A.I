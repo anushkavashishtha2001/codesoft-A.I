{
  "nbformat": 4,
  "nbformat_minor": 0,
  "metadata": {
    "colab": {
      "provenance": [],
      "authorship_tag": "ABX9TyNydVKdsD6EiS3PbLBKLTOw",
      "include_colab_link": true
    },
    "kernelspec": {
      "name": "python3",
      "display_name": "Python 3"
    },
    "language_info": {
      "name": "python"
    }
  },
  "cells": [
    {
      "cell_type": "markdown",
      "metadata": {
        "id": "view-in-github",
        "colab_type": "text"
      },
      "source": [
        "<a href=\"https://colab.research.google.com/github/anushkavashishtha2001/codesoft-A.I/blob/main/Recommendation_system.ipynb\" target=\"_parent\"><img src=\"https://colab.research.google.com/assets/colab-badge.svg\" alt=\"Open In Colab\"/></a>"
      ]
    },
    {
      "cell_type": "code",
      "execution_count": null,
      "metadata": {
        "id": "c_OZjt_H1J-Y"
      },
      "outputs": [],
      "source": [
        "import math\n",
        "\n",
        "# Define the user ratings dictionary\n",
        "user_ratings = {\n",
        "    'user1': {'item1': 4, 'item2': 3, 'item3': 2},\n",
        "    'user2': {'item1': 3, 'item2': 4, 'item3': 1},\n",
        "    'user3': {'item1': 2, 'item2': 1, 'item3': 4},\n",
        "}\n",
        "\n",
        "def calculate_similarity(user1, user2):\n",
        "    \"\"\"Calculate the cosine similarity between two users\"\"\"\n",
        "    dot_product = sum(user1[item] * user2[item] for item in user1 if item in user2)\n",
        "    magnitude1 = math.sqrt(sum(val ** 2 for val in user1.values()))\n",
        "    magnitude2 = math.sqrt(sum(val ** 2 for val in user2.values()))\n",
        "    return dot_product / (magnitude1 * magnitude2)\n",
        "\n",
        "def find_nearest_neighbors(user, num_neighbors):\n",
        "    \"\"\"Find the most similar users (nearest neighbors)\"\"\"\n",
        "    similarities = {}\n",
        "    for neighbor in user_ratings:\n",
        "        if neighbor != user:\n",
        "            similarity = calculate_similarity(user_ratings[user], user_ratings[neighbor])\n",
        "            similarities[neighbor] = similarity\n",
        "    return sorted(similarities, key=similarities.get, reverse=True)[:num_neighbors]\n",
        "\n",
        "def calculate_weighted_average(user, item, nearest_neighbors):\n",
        "    \"\"\"Calculate the weighted average of ratings from nearest neighbors\"\"\"\n",
        "    weighted_sum = 0\n",
        "    weight_sum = 0\n",
        "    for neighbor in nearest_neighbors:\n",
        "        if item in user_ratings[neighbor]:\n",
        "            weighted_sum += user_ratings[neighbor][item] * calculate_similarity(user_ratings[user], user_ratings[neighbor])\n",
        "            weight_sum += calculate_similarity(user_ratings[user], user_ratings[neighbor])\n",
        "    return weighted_sum / weight_sum if weight_sum != 0 else 0\n",
        "\n",
        "def recommend_items(user, num_recommendations):\n",
        "    \"\"\"Recommend items to a user\"\"\"\n",
        "    nearest_neighbors = find_nearest_neighbors(user, 3)\n",
        "    recommendations = {}\n",
        "    for item in set(item for neighbor in nearest_neighbors for item in user_ratings[neighbor]):\n",
        "        if item not in user_ratings[user]:\n",
        "            weighted_average = calculate_weighted_average(user, item, nearest_neighbors)\n",
        "            recommendations[item] = weighted_average\n",
        "    return sorted(recommendations, key=recommendations.get, reverse=True)[:num_recommendations]\n",
        "\n",
        "# Example usage:\n",
        "user = 'user1'\n",
        "num_recommendations = 2\n",
        "recommended_items = recommend_items(user, num_recommendations)\n",
        "print(f\"Recommended items for {user}: {recommended_items}\")"
      ]
    }
  ]
}